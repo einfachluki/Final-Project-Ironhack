{
 "cells": [
  {
   "cell_type": "code",
   "execution_count": null,
   "id": "aa2f910e",
   "metadata": {},
   "outputs": [],
   "source": [
    "#pip install bertopic"
   ]
  },
  {
   "cell_type": "code",
   "execution_count": null,
   "id": "135287b9",
   "metadata": {},
   "outputs": [],
   "source": [
    "#conda install -c conda-forge hdbscan"
   ]
  },
  {
   "cell_type": "code",
   "execution_count": 11,
   "id": "3b381b6a",
   "metadata": {},
   "outputs": [],
   "source": [
    "from bertopic import BERTopic\n",
    "import pandas as pd\n",
    "import random"
   ]
  },
  {
   "cell_type": "code",
   "execution_count": 17,
   "id": "030043fb",
   "metadata": {},
   "outputs": [],
   "source": [
    "database =  pd.read_csv(\"/Users/lukasbauerschmidt/Desktop/Ironhack/5. Final Project/Leo Repository/df_with_model_input.csv\")"
   ]
  },
  {
   "cell_type": "code",
   "execution_count": 38,
   "id": "4ea043a0",
   "metadata": {},
   "outputs": [
    {
     "ename": "TypeError",
     "evalue": "load() got an unexpected keyword argument 'map_location'",
     "output_type": "error",
     "traceback": [
      "\u001b[0;31m---------------------------------------------------------------------------\u001b[0m",
      "\u001b[0;31mTypeError\u001b[0m                                 Traceback (most recent call last)",
      "Cell \u001b[0;32mIn[38], line 1\u001b[0m\n\u001b[0;32m----> 1\u001b[0m trial_model \u001b[38;5;241m=\u001b[39m \u001b[43mBERTopic\u001b[49m\u001b[38;5;241;43m.\u001b[39;49m\u001b[43mload\u001b[49m\u001b[43m(\u001b[49m\u001b[38;5;124;43m\"\u001b[39;49m\u001b[38;5;124;43m/Users/lukasbauerschmidt/Desktop/Ironhack/5. Final Project/Leo Repository/Models/BERT_model_custom_embeddings_v1.joblib\u001b[39;49m\u001b[38;5;124;43m\"\u001b[39;49m\u001b[43m,\u001b[49m\u001b[43m \u001b[49m\u001b[43mmap_location\u001b[49m\u001b[43m \u001b[49m\u001b[38;5;241;43m=\u001b[39;49m\u001b[38;5;124;43m'\u001b[39;49m\u001b[38;5;124;43mcpu\u001b[39;49m\u001b[38;5;124;43m'\u001b[39;49m\u001b[43m)\u001b[49m\n",
      "\u001b[0;31mTypeError\u001b[0m: load() got an unexpected keyword argument 'map_location'"
     ]
    }
   ],
   "source": [
    "trial_model = BERTopic.load(\"/Users/lukasbauerschmidt/Desktop/Ironhack/5. Final Project/Leo Repository/Models/BERT_model_custom_embeddings_v1.joblib\")"
   ]
  },
  {
   "cell_type": "code",
   "execution_count": 24,
   "id": "1bc4b036",
   "metadata": {},
   "outputs": [],
   "source": [
    "def find_topic_of_database(trial_model, database):\n",
    "    database[\"topic\"] = trial_model.topics_\n",
    "    return database"
   ]
  },
  {
   "cell_type": "code",
   "execution_count": 31,
   "id": "dd91c725",
   "metadata": {},
   "outputs": [],
   "source": [
    "def find_topic_of_user_input(model, user_input):\n",
    "    if type(user_input) == str:\n",
    "        #print(\"str\")\n",
    "        input_topic, input_prob = model.transform(user_input)\n",
    "        user_input_type = \"Manual Input\"\n",
    "    elif type(user_input) != \"None\":\n",
    "        #print(\"df\")\n",
    "        input_topic, input_prob = model.transform(str(user_input[\"model_input\"]))\n",
    "        user_input_type = \"Google Maps Input\"\n",
    "        #name = user_input[\"name\"].to_string(index=False)\n",
    "    else:\n",
    "        print(\"error while assigning the topic for user input\")\n",
    "    \n",
    "    return user_input_type, input_topic, input_prob"
   ]
  },
  {
   "cell_type": "code",
   "execution_count": 29,
   "id": "5b71e541",
   "metadata": {},
   "outputs": [],
   "source": [
    "def build_clusters(model, database, user_input):\n",
    "    #cluster building of database\n",
    "    database_clustered = find_topic_of_database(model, database)\n",
    "    user_input_type, user_input_topic, user_input_prob = find_topic_of_user_input(model, user_input)\n",
    "    return database_clustered, user_input_type, user_input_topic, user_input_prob"
   ]
  },
  {
   "cell_type": "code",
   "execution_count": 35,
   "id": "3e2e2c07",
   "metadata": {},
   "outputs": [],
   "source": [
    "def output_recommendation(database, user_input_type, user_input_topic, user_input_prob):\n",
    "  # remove user input from possible list of output if it's a restaurant\n",
    "\n",
    "  if user_input_type == \"Manual Input\":\n",
    "    recommendation = df.iloc[random.choice(range(len(df[df[\"topic\"] == user_input_topic[0]])))][\"name\"]\n",
    "    return recommendation\n",
    "  elif user_input_type == \"Google Maps Input\":\n",
    "    df = df[~(df[\"name\"].str.lower() == user_input_name.lower())]\n",
    "    recommendation = df.iloc[random.choice(range(len(df[df[\"topic\"] == user_input_topic[0]])))][\"name\"]\n",
    "    return recommendation\n",
    "  else:\n",
    "    return \"error while selecting the recommendation\""
   ]
  },
  {
   "cell_type": "code",
   "execution_count": 34,
   "id": "829e40f4",
   "metadata": {},
   "outputs": [],
   "source": [
    "def main(database, model):\n",
    "    user_input = user_input()\n",
    "    database_clustered, user_input_type, user_input_topic, user_input_prob = build_clusters(model, database, user_input)\n",
    "    recommendation = output_recommendation(database_clustered, user_input_type, user_input_topic, user_input_prob)"
   ]
  },
  {
   "cell_type": "code",
   "execution_count": null,
   "id": "614984ca",
   "metadata": {},
   "outputs": [],
   "source": []
  }
 ],
 "metadata": {
  "kernelspec": {
   "display_name": "Python 3 (ipykernel)",
   "language": "python",
   "name": "python3"
  },
  "language_info": {
   "codemirror_mode": {
    "name": "ipython",
    "version": 3
   },
   "file_extension": ".py",
   "mimetype": "text/x-python",
   "name": "python",
   "nbconvert_exporter": "python",
   "pygments_lexer": "ipython3",
   "version": "3.9.15"
  }
 },
 "nbformat": 4,
 "nbformat_minor": 5
}
