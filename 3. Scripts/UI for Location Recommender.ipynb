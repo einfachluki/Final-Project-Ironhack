{
 "cells": [
  {
   "cell_type": "code",
   "execution_count": 215,
   "id": "f728f7fc",
   "metadata": {},
   "outputs": [
    {
     "name": "stderr",
     "output_type": "stream",
     "text": [
      "Since the GPL-licensed package `unidecode` is not installed, using Python's `unicodedata` package which yields worse results.\n"
     ]
    }
   ],
   "source": [
    "import os\n",
    "import requests\n",
    "import googlemaps\n",
    "import json\n",
    "from gomaps import maps_search\n",
    "import time\n",
    "import googlemaps\n",
    "import pandas as pd\n",
    "import pgeocode\n",
    "import requests\n",
    "import json\n",
    "import re\n",
    "import numpy as np\n",
    "from cleantext import clean"
   ]
  },
  {
   "cell_type": "code",
   "execution_count": 3,
   "id": "0a0a1055",
   "metadata": {},
   "outputs": [],
   "source": [
    "#Function to extract place_id of user's google maps link\n",
    "def get_location_from_url(url):\n",
    "    # Regular expression to match latitude and longitude\n",
    "    regex = r\"@(-?\\d+\\.\\d+),(-?\\d+\\.\\d+)\"\n",
    "    \n",
    "    # Search for latitude and longitude in the URL\n",
    "    match = re.search(regex, url)\n",
    "    \n",
    "    if match:\n",
    "        # Extract latitude and longitude from the regex match\n",
    "        latitude = float(match.group(1))\n",
    "        longitude = float(match.group(2))\n",
    "        \n",
    "        return (latitude, longitude)\n",
    "    else:\n",
    "        return None\n",
    "    "
   ]
  },
  {
   "cell_type": "code",
   "execution_count": 4,
   "id": "be2e5a4e",
   "metadata": {},
   "outputs": [],
   "source": [
    "def get_place_id(latitude, longitude, api_key):\n",
    "    # Set up the API endpoint URL and parameters\n",
    "    url = \"https://maps.googleapis.com/maps/api/place/nearbysearch/json\"\n",
    "    params = {\n",
    "        \"location\": f\"{latitude},{longitude}\",\n",
    "        \"rankby\": \"distance\",\n",
    "        \"category\": \"restaurant\",\n",
    "        \"key\": api_key\n",
    "    }\n",
    "    \n",
    "    # Send the API request and get the JSON response\n",
    "    response = requests.get(url, params=params).json()\n",
    "    \n",
    "    # Check if any results were returned\n",
    "    if len(response[\"results\"]) > 0:\n",
    "        # Extract the place ID from the first result\n",
    "        place_id = response[\"results\"][0][\"place_id\"]\n",
    "        return place_id\n",
    "    else:\n",
    "        print(\"Error in get_place_id\")"
   ]
  },
  {
   "cell_type": "code",
   "execution_count": 5,
   "id": "a1ef2bae",
   "metadata": {},
   "outputs": [],
   "source": [
    "def extract_place_details(place_id, api_key):\n",
    "    url = f'https://maps.googleapis.com/maps/api/place/details/json?place_id={place_id}&key={api_key}'\n",
    "\n",
    "    # Send a GET request to the API endpoint and retrieve the response\n",
    "    response = requests.get(url)\n",
    "\n",
    "    # Parse the JSON response and convert it to a dictionary\n",
    "    result = json.loads(response.text)\n",
    "\n",
    "    try:\n",
    "        return [result[\"result\"]]\n",
    "    \n",
    "    except:\n",
    "        print(\"Error in extract_place_details\")"
   ]
  },
  {
   "cell_type": "code",
   "execution_count": 6,
   "id": "8318ac8f",
   "metadata": {},
   "outputs": [],
   "source": [
    "def transform_to_df(place_details):\n",
    "    user_input_details = pd.DataFrame(data = place_details)\n",
    "    return user_input_details"
   ]
  },
  {
   "cell_type": "code",
   "execution_count": 15,
   "id": "65e66fcc",
   "metadata": {},
   "outputs": [],
   "source": [
    "#Option 1: get user details based on google maps link\n",
    "def process_user_input_details1():\n",
    "    user_input = input(\"please insert the goolge maps link of your favorite location: \")\n",
    "    api_key = open(\"/Users/lukasbauerschmidt/Desktop/Ironhack/5. Final Project/Final-Project-Ironhack/2. Google API Key/key.txt\").read()\n",
    "    latitude, longitude = get_location_from_url(user_input)\n",
    "    place_id = get_place_id(latitude, longitude, api_key)\n",
    "    place_details = extract_place_details(place_id, api_key)\n",
    "    user_input_details = transform_to_df(place_details)\n",
    "    \n",
    "    return user_input_details"
   ]
  },
  {
   "cell_type": "code",
   "execution_count": 16,
   "id": "66340944",
   "metadata": {},
   "outputs": [],
   "source": [
    "#Option 2: get user details based on place_id searched in the following website \"https://developers.google.com/maps/documentation/javascript/examples/places-placeid-finder\"\n",
    "def process_user_input_details2():\n",
    "    print(\"1. Please find your place_id of your favorite location using the following link: https://developers.google.com/maps/documentation/javascript/examples/places-placeid-finder\")\n",
    "    place_id = input(\"please insert the place_id of your desired location: \")\n",
    "    api_key = open(\"/Users/lukasbauerschmidt/Desktop/Ironhack/5. Final Project/Final-Project-Ironhack/2. Google API Key/key.txt\").read()\n",
    "    place_details = extract_place_details(place_id, api_key)\n",
    "    user_input_details = transform_to_df(place_details)\n",
    "    \n",
    "    return user_input_details"
   ]
  },
  {
   "cell_type": "code",
   "execution_count": 9,
   "id": "a5d97536",
   "metadata": {},
   "outputs": [],
   "source": [
    "def get_coordinates_from_details(user_input_details):\n",
    "    latitude = round(user_input_details[\"geometry\"][0][\"location\"][\"lat\"], 7)\n",
    "    longitude = round(user_input_details[\"geometry\"][0][\"location\"][\"lng\"], 7)\n",
    "    return latitude, longitude"
   ]
  },
  {
   "cell_type": "code",
   "execution_count": 35,
   "id": "6ce673a5",
   "metadata": {},
   "outputs": [],
   "source": [
    "def process_user_input_high_level(user_input_details):\n",
    "    latitude, longitude = get_coordinates_from_details(user_input_details)\n",
    "    \n",
    "    #Google Maps API parameters\n",
    "    search_string = 'restaurant'\n",
    "    distance = 0.0001\n",
    "    rankby=distance\n",
    "    \n",
    "    api_key = open(\"/Users/lukasbauerschmidt/Desktop/Ironhack/5. Final Project/Final-Project-Ironhack/2. Google API Key/key.txt\").read()\n",
    "    map_client = googlemaps.Client(api_key)\n",
    "    response = map_client.places_nearby(location=(latitude, longitude), keyword=search_string, radius=distance)\n",
    "    \n",
    "    result = response.get('results')\n",
    "\n",
    "    for i, business in enumerate(result):\n",
    "        latitude_hl = business[\"geometry\"][\"location\"][\"lat\"] \n",
    "        longitude_hl = business[\"geometry\"][\"location\"][\"lng\"]\n",
    "        \n",
    "        if latitude_hl == latitude and longitude_hl == longitude:\n",
    "            high_level_result = transform_to_df([result[i]])\n",
    "\n",
    "            high_level_result['url'] = 'https://www.google.com/maps/place/?q=place_id:' + high_level_result['place_id']\n",
    "            \n",
    "            return high_level_result\n",
    "        \n",
    "        else:\n",
    "            print(\"Error in process_user_input_high_level\")"
   ]
  },
  {
   "cell_type": "code",
   "execution_count": 79,
   "id": "ccbd8a61",
   "metadata": {},
   "outputs": [],
   "source": [
    "def concat(df_details, df_high_level):\n",
    "    final = pd.concat([df_high_level.set_index(\"place_id\"), df_details.set_index(\"place_id\")], axis = 1, join=\"inner\")\n",
    "    return final"
   ]
  },
  {
   "cell_type": "code",
   "execution_count": 114,
   "id": "61a54a7a",
   "metadata": {},
   "outputs": [],
   "source": [
    "def add_missing_cols(final_df):\n",
    "    benchmark_df = pd.read_csv(\"/Users/lukasbauerschmidt/Desktop/Ironhack/5. Final Project/Leo Repository/df_with_model_input.csv\")\n",
    "    benchmark_cols = benchmark_df.columns\n",
    "    final_cols = final_df.columns\n",
    "    \n",
    "    for benchmark_column in benchmark_cols:\n",
    "        if benchmark_column not in final_cols:\n",
    "            final_df[benchmark_column] = np.nan\n",
    "        else:\n",
    "            pass\n",
    "        \n",
    "    return final_df"
   ]
  },
  {
   "cell_type": "code",
   "execution_count": 220,
   "id": "a2059dda",
   "metadata": {},
   "outputs": [],
   "source": [
    "def clean_data(final_df):\n",
    "    #dropping useless columns\n",
    "    \n",
    "    final_df = final_df.loc[:, ~final_df.columns.duplicated(keep='first')]\n",
    "    \n",
    "    cols_to_drop = ['Unnamed: 0', 'secondary_opening_hours', 'utc_offset', 'current_opening_hours', 'adr_address', 'address_components', 'icon', 'icon_background_color', 'icon',\n",
    "       'icon_mask_base_uri', 'scope', 'formatted_phone_number', \"opening_hours\"]\n",
    "    \n",
    "    final_df = final_df.drop(cols_to_drop, axis=1)\n",
    "    \n",
    "    final_df = final_df[['name', 'reference', 'geometry', 'formatted_address',\n",
    "       'price_level', 'rating', 'user_ratings_total', 'types','editorial_summary', 'reviews',\n",
    "       'curbside_pickup', 'delivery', 'dine_in', 'takeout', 'reservable',\n",
    "       'serves_beer', 'serves_breakfast', 'serves_brunch', 'serves_dinner', 'serves_lunch', 'serves_vegetarian_food', 'serves_wine',\n",
    "       'wheelchair_accessible_entrance', 'website', 'international_phone_number', 'photos', 'vicinity', 'url', 'business_status','permanently_closed', 'plus_code']]\n",
    "    \n",
    "    \n",
    "    review_dct = {}\n",
    "    for i, item in enumerate(final_df[\"reviews\"][0]):\n",
    "        review_dct[f\"review{i}\"] = clean(item[\"text\"], no_emoji=True, no_line_breaks=True)\n",
    "\n",
    "    try:\n",
    "        review_dct.update({\"editorial_summary\" : ast.literal_eval(final_df[\"editorial_summary\"][0])[\"overview\"]})\n",
    "        \n",
    "    except:\n",
    "        review_dct.update({\"editorial_summary\" : \"\"})\n",
    "\n",
    "    try:\n",
    "        review_dct.update({\"types\" : ast.literal_eval(final_df[\"types\"][0].replace(\"'point_of_interest', \", \"\"))})\n",
    "        \n",
    "    except:\n",
    "        review_dct.update({\"types\" : \"\"})\n",
    "    \n",
    "    final_df[\"model_input\"] = str(review_dct).replace(\"{\", \"\").replace(\"}\",\"\")\n",
    "    \n",
    "    #final_df[\"model_input\"].apply(lambda x: str(x).replace(\"'review0':\" , \"\").replace(\"'review1':\" , \"\").replace(\"'review2':\" , \"\").replace(\"'review3':\" , \"\").replace(\"'review4':\" , \"\").replace(\"'types':\" , \"\").replace(\"'editorial_summary':\" , \"\"))  \n",
    "    \n",
    "    return final_df"
   ]
  },
  {
   "cell_type": "code",
   "execution_count": 231,
   "id": "f288c28a",
   "metadata": {},
   "outputs": [],
   "source": [
    "def user_input():\n",
    "    user_input_details = process_user_input_details2()\n",
    "    user_input_high_level = process_user_input_high_level(user_input_details)\n",
    "    final = concat(user_input_details, user_input_high_level)\n",
    "    final = add_missing_cols(final)\n",
    "    final_cleaned = clean_data(final)\n",
    "    \n",
    "    return final_cleaned"
   ]
  },
  {
   "cell_type": "code",
   "execution_count": 236,
   "id": "a530308c",
   "metadata": {},
   "outputs": [
    {
     "name": "stdout",
     "output_type": "stream",
     "text": [
      "1. Please find your place_id of your favorite location using the following link: https://developers.google.com/maps/documentation/javascript/examples/places-placeid-finder\n",
      "please insert the place_id of your desired location: ChIJywdI5etRqEcRUVD-ycuGL6M\n"
     ]
    },
    {
     "data": {
      "text/plain": [
       "Index(['name', 'reference', 'geometry', 'formatted_address', 'price_level',\n",
       "       'rating', 'user_ratings_total', 'types', 'editorial_summary', 'reviews',\n",
       "       'curbside_pickup', 'delivery', 'dine_in', 'takeout', 'reservable',\n",
       "       'serves_beer', 'serves_breakfast', 'serves_brunch', 'serves_dinner',\n",
       "       'serves_lunch', 'serves_vegetarian_food', 'serves_wine',\n",
       "       'wheelchair_accessible_entrance', 'website',\n",
       "       'international_phone_number', 'photos', 'vicinity', 'url',\n",
       "       'business_status', 'permanently_closed', 'plus_code', 'model_input'],\n",
       "      dtype='object')"
      ]
     },
     "execution_count": 236,
     "metadata": {},
     "output_type": "execute_result"
    }
   ],
   "source": [
    "user_input().columns"
   ]
  },
  {
   "cell_type": "code",
   "execution_count": null,
   "id": "44996fb9",
   "metadata": {},
   "outputs": [],
   "source": []
  },
  {
   "cell_type": "code",
   "execution_count": null,
   "id": "fcc821c0",
   "metadata": {},
   "outputs": [],
   "source": []
  },
  {
   "cell_type": "code",
   "execution_count": null,
   "id": "0fa0e207",
   "metadata": {},
   "outputs": [],
   "source": []
  }
 ],
 "metadata": {
  "kernelspec": {
   "display_name": "Python 3 (ipykernel)",
   "language": "python",
   "name": "python3"
  },
  "language_info": {
   "codemirror_mode": {
    "name": "ipython",
    "version": 3
   },
   "file_extension": ".py",
   "mimetype": "text/x-python",
   "name": "python",
   "nbconvert_exporter": "python",
   "pygments_lexer": "ipython3",
   "version": "3.9.15"
  }
 },
 "nbformat": 4,
 "nbformat_minor": 5
}
