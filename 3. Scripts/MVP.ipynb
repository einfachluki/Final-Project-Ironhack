{
  "cells": [
    {
      "cell_type": "code",
      "execution_count": 4,
      "id": "aa2f910e",
      "metadata": {
        "colab": {
          "base_uri": "https://localhost:8080/"
        },
        "id": "aa2f910e",
        "outputId": "ae61fffe-259e-4c5e-cfe1-2f13c2a6a7fe"
      },
      "outputs": [
        {
          "output_type": "stream",
          "name": "stdout",
          "text": [
            "Looking in indexes: https://pypi.org/simple, https://us-python.pkg.dev/colab-wheels/public/simple/\n",
            "Collecting bertopic\n",
            "  Downloading bertopic-0.14.1-py2.py3-none-any.whl (120 kB)\n",
            "\u001b[2K     \u001b[90m━━━━━━━━━━━━━━━━━━━━━━━━━━━━━━━━━━━━━━━\u001b[0m \u001b[32m120.7/120.7 KB\u001b[0m \u001b[31m3.5 MB/s\u001b[0m eta \u001b[36m0:00:00\u001b[0m\n",
            "\u001b[?25hCollecting sentence-transformers>=0.4.1\n",
            "  Downloading sentence-transformers-2.2.2.tar.gz (85 kB)\n",
            "\u001b[2K     \u001b[90m━━━━━━━━━━━━━━━━━━━━━━━━━━━━━━━━━━━━━━━━\u001b[0m \u001b[32m86.0/86.0 KB\u001b[0m \u001b[31m10.2 MB/s\u001b[0m eta \u001b[36m0:00:00\u001b[0m\n",
            "\u001b[?25h  Preparing metadata (setup.py) ... \u001b[?25l\u001b[?25hdone\n",
            "Requirement already satisfied: pandas>=1.1.5 in /usr/local/lib/python3.8/dist-packages (from bertopic) (1.3.5)\n",
            "Requirement already satisfied: scikit-learn>=0.22.2.post1 in /usr/local/lib/python3.8/dist-packages (from bertopic) (1.2.1)\n",
            "Requirement already satisfied: tqdm>=4.41.1 in /usr/local/lib/python3.8/dist-packages (from bertopic) (4.64.1)\n",
            "Requirement already satisfied: numpy>=1.20.0 in /usr/local/lib/python3.8/dist-packages (from bertopic) (1.22.4)\n",
            "Collecting hdbscan>=0.8.29\n",
            "  Downloading hdbscan-0.8.29.tar.gz (5.2 MB)\n",
            "\u001b[2K     \u001b[90m━━━━━━━━━━━━━━━━━━━━━━━━━━━━━━━━━━━━━━━━\u001b[0m \u001b[32m5.2/5.2 MB\u001b[0m \u001b[31m32.6 MB/s\u001b[0m eta \u001b[36m0:00:00\u001b[0m\n",
            "\u001b[?25h  Installing build dependencies ... \u001b[?25l\u001b[?25hdone\n",
            "  Getting requirements to build wheel ... \u001b[?25l\u001b[?25hdone\n",
            "  Preparing metadata (pyproject.toml) ... \u001b[?25l\u001b[?25hdone\n",
            "Collecting umap-learn>=0.5.0\n",
            "  Downloading umap-learn-0.5.3.tar.gz (88 kB)\n",
            "\u001b[2K     \u001b[90m━━━━━━━━━━━━━━━━━━━━━━━━━━━━━━━━━━━━━━━━\u001b[0m \u001b[32m88.2/88.2 KB\u001b[0m \u001b[31m12.9 MB/s\u001b[0m eta \u001b[36m0:00:00\u001b[0m\n",
            "\u001b[?25h  Preparing metadata (setup.py) ... \u001b[?25l\u001b[?25hdone\n",
            "Requirement already satisfied: plotly>=4.7.0 in /usr/local/lib/python3.8/dist-packages (from bertopic) (5.5.0)\n",
            "Requirement already satisfied: cython>=0.27 in /usr/local/lib/python3.8/dist-packages (from hdbscan>=0.8.29->bertopic) (0.29.33)\n",
            "Requirement already satisfied: joblib>=1.0 in /usr/local/lib/python3.8/dist-packages (from hdbscan>=0.8.29->bertopic) (1.2.0)\n",
            "Requirement already satisfied: scipy>=1.0 in /usr/local/lib/python3.8/dist-packages (from hdbscan>=0.8.29->bertopic) (1.10.1)\n",
            "Requirement already satisfied: python-dateutil>=2.7.3 in /usr/local/lib/python3.8/dist-packages (from pandas>=1.1.5->bertopic) (2.8.2)\n",
            "Requirement already satisfied: pytz>=2017.3 in /usr/local/lib/python3.8/dist-packages (from pandas>=1.1.5->bertopic) (2022.7.1)\n",
            "Requirement already satisfied: six in /usr/local/lib/python3.8/dist-packages (from plotly>=4.7.0->bertopic) (1.15.0)\n",
            "Requirement already satisfied: tenacity>=6.2.0 in /usr/local/lib/python3.8/dist-packages (from plotly>=4.7.0->bertopic) (8.2.2)\n",
            "Requirement already satisfied: threadpoolctl>=2.0.0 in /usr/local/lib/python3.8/dist-packages (from scikit-learn>=0.22.2.post1->bertopic) (3.1.0)\n",
            "Collecting transformers<5.0.0,>=4.6.0\n",
            "  Downloading transformers-4.26.1-py3-none-any.whl (6.3 MB)\n",
            "\u001b[2K     \u001b[90m━━━━━━━━━━━━━━━━━━━━━━━━━━━━━━━━━━━━━━━━\u001b[0m \u001b[32m6.3/6.3 MB\u001b[0m \u001b[31m105.0 MB/s\u001b[0m eta \u001b[36m0:00:00\u001b[0m\n",
            "\u001b[?25hRequirement already satisfied: torch>=1.6.0 in /usr/local/lib/python3.8/dist-packages (from sentence-transformers>=0.4.1->bertopic) (1.13.1+cu116)\n",
            "Requirement already satisfied: torchvision in /usr/local/lib/python3.8/dist-packages (from sentence-transformers>=0.4.1->bertopic) (0.14.1+cu116)\n",
            "Requirement already satisfied: nltk in /usr/local/lib/python3.8/dist-packages (from sentence-transformers>=0.4.1->bertopic) (3.7)\n",
            "Collecting sentencepiece\n",
            "  Downloading sentencepiece-0.1.97-cp38-cp38-manylinux_2_17_x86_64.manylinux2014_x86_64.whl (1.3 MB)\n",
            "\u001b[2K     \u001b[90m━━━━━━━━━━━━━━━━━━━━━━━━━━━━━━━━━━━━━━━━\u001b[0m \u001b[32m1.3/1.3 MB\u001b[0m \u001b[31m77.7 MB/s\u001b[0m eta \u001b[36m0:00:00\u001b[0m\n",
            "\u001b[?25hCollecting huggingface-hub>=0.4.0\n",
            "  Downloading huggingface_hub-0.12.1-py3-none-any.whl (190 kB)\n",
            "\u001b[2K     \u001b[90m━━━━━━━━━━━━━━━━━━━━━━━━━━━━━━━━━━━━━━\u001b[0m \u001b[32m190.3/190.3 KB\u001b[0m \u001b[31m23.3 MB/s\u001b[0m eta \u001b[36m0:00:00\u001b[0m\n",
            "\u001b[?25hRequirement already satisfied: numba>=0.49 in /usr/local/lib/python3.8/dist-packages (from umap-learn>=0.5.0->bertopic) (0.56.4)\n",
            "Collecting pynndescent>=0.5\n",
            "  Downloading pynndescent-0.5.8.tar.gz (1.1 MB)\n",
            "\u001b[2K     \u001b[90m━━━━━━━━━━━━━━━━━━━━━━━━━━━━━━━━━━━━━━━━\u001b[0m \u001b[32m1.1/1.1 MB\u001b[0m \u001b[31m77.3 MB/s\u001b[0m eta \u001b[36m0:00:00\u001b[0m\n",
            "\u001b[?25h  Preparing metadata (setup.py) ... \u001b[?25l\u001b[?25hdone\n",
            "Requirement already satisfied: filelock in /usr/local/lib/python3.8/dist-packages (from huggingface-hub>=0.4.0->sentence-transformers>=0.4.1->bertopic) (3.9.0)\n",
            "Requirement already satisfied: pyyaml>=5.1 in /usr/local/lib/python3.8/dist-packages (from huggingface-hub>=0.4.0->sentence-transformers>=0.4.1->bertopic) (6.0)\n",
            "Requirement already satisfied: requests in /usr/local/lib/python3.8/dist-packages (from huggingface-hub>=0.4.0->sentence-transformers>=0.4.1->bertopic) (2.25.1)\n",
            "Requirement already satisfied: typing-extensions>=3.7.4.3 in /usr/local/lib/python3.8/dist-packages (from huggingface-hub>=0.4.0->sentence-transformers>=0.4.1->bertopic) (4.5.0)\n",
            "Requirement already satisfied: packaging>=20.9 in /usr/local/lib/python3.8/dist-packages (from huggingface-hub>=0.4.0->sentence-transformers>=0.4.1->bertopic) (23.0)\n",
            "Requirement already satisfied: importlib-metadata in /usr/local/lib/python3.8/dist-packages (from numba>=0.49->umap-learn>=0.5.0->bertopic) (6.0.0)\n",
            "Requirement already satisfied: llvmlite<0.40,>=0.39.0dev0 in /usr/local/lib/python3.8/dist-packages (from numba>=0.49->umap-learn>=0.5.0->bertopic) (0.39.1)\n",
            "Requirement already satisfied: setuptools in /usr/local/lib/python3.8/dist-packages (from numba>=0.49->umap-learn>=0.5.0->bertopic) (57.4.0)\n",
            "Collecting tokenizers!=0.11.3,<0.14,>=0.11.1\n",
            "  Downloading tokenizers-0.13.2-cp38-cp38-manylinux_2_17_x86_64.manylinux2014_x86_64.whl (7.6 MB)\n",
            "\u001b[2K     \u001b[90m━━━━━━━━━━━━━━━━━━━━━━━━━━━━━━━━━━━━━━━━\u001b[0m \u001b[32m7.6/7.6 MB\u001b[0m \u001b[31m79.3 MB/s\u001b[0m eta \u001b[36m0:00:00\u001b[0m\n",
            "\u001b[?25hRequirement already satisfied: regex!=2019.12.17 in /usr/local/lib/python3.8/dist-packages (from transformers<5.0.0,>=4.6.0->sentence-transformers>=0.4.1->bertopic) (2022.6.2)\n",
            "Requirement already satisfied: click in /usr/local/lib/python3.8/dist-packages (from nltk->sentence-transformers>=0.4.1->bertopic) (8.1.3)\n",
            "Requirement already satisfied: pillow!=8.3.*,>=5.3.0 in /usr/local/lib/python3.8/dist-packages (from torchvision->sentence-transformers>=0.4.1->bertopic) (8.4.0)\n",
            "Requirement already satisfied: zipp>=0.5 in /usr/local/lib/python3.8/dist-packages (from importlib-metadata->numba>=0.49->umap-learn>=0.5.0->bertopic) (3.15.0)\n",
            "Requirement already satisfied: urllib3<1.27,>=1.21.1 in /usr/local/lib/python3.8/dist-packages (from requests->huggingface-hub>=0.4.0->sentence-transformers>=0.4.1->bertopic) (1.26.14)\n",
            "Requirement already satisfied: chardet<5,>=3.0.2 in /usr/local/lib/python3.8/dist-packages (from requests->huggingface-hub>=0.4.0->sentence-transformers>=0.4.1->bertopic) (4.0.0)\n",
            "Requirement already satisfied: certifi>=2017.4.17 in /usr/local/lib/python3.8/dist-packages (from requests->huggingface-hub>=0.4.0->sentence-transformers>=0.4.1->bertopic) (2022.12.7)\n",
            "Requirement already satisfied: idna<3,>=2.5 in /usr/local/lib/python3.8/dist-packages (from requests->huggingface-hub>=0.4.0->sentence-transformers>=0.4.1->bertopic) (2.10)\n",
            "Building wheels for collected packages: hdbscan, sentence-transformers, umap-learn, pynndescent\n",
            "  Building wheel for hdbscan (pyproject.toml) ... \u001b[?25l\u001b[?25hdone\n",
            "  Created wheel for hdbscan: filename=hdbscan-0.8.29-cp38-cp38-linux_x86_64.whl size=3774016 sha256=1fd2af9eeffc27f243796034dd293d9d57ec9463d276048a30ab3f2523a62a73\n",
            "  Stored in directory: /root/.cache/pip/wheels/76/06/48/527e038689c581cc9e519c73840efdc7473805149e55bd7ffd\n",
            "  Building wheel for sentence-transformers (setup.py) ... \u001b[?25l\u001b[?25hdone\n",
            "  Created wheel for sentence-transformers: filename=sentence_transformers-2.2.2-py3-none-any.whl size=125938 sha256=8ade40fca7c8156e6d77df676552c0ec80dda1334432912ddadf64dcf17533ad\n",
            "  Stored in directory: /root/.cache/pip/wheels/5e/6f/8c/d88aec621f3f542d26fac0342bef5e693335d125f4e54aeffe\n",
            "  Building wheel for umap-learn (setup.py) ... \u001b[?25l\u001b[?25hdone\n",
            "  Created wheel for umap-learn: filename=umap_learn-0.5.3-py3-none-any.whl size=82829 sha256=0c5016539fbdf49900cc89e08beeb65df94493790815a5385e47e6bff834ea84\n",
            "  Stored in directory: /root/.cache/pip/wheels/a9/3a/67/06a8950e053725912e6a8c42c4a3a241410f6487b8402542ea\n",
            "  Building wheel for pynndescent (setup.py) ... \u001b[?25l\u001b[?25hdone\n",
            "  Created wheel for pynndescent: filename=pynndescent-0.5.8-py3-none-any.whl size=55513 sha256=8c7f68f6f2af18b70b8f24706b7028c926cefd2e0cbe7425525c4e01a84608b4\n",
            "  Stored in directory: /root/.cache/pip/wheels/1c/63/3a/29954bca1a27ba100ed8c27973a78cb71b43dc67aed62e80c3\n",
            "Successfully built hdbscan sentence-transformers umap-learn pynndescent\n",
            "Installing collected packages: tokenizers, sentencepiece, huggingface-hub, transformers, pynndescent, hdbscan, umap-learn, sentence-transformers, bertopic\n",
            "Successfully installed bertopic-0.14.1 hdbscan-0.8.29 huggingface-hub-0.12.1 pynndescent-0.5.8 sentence-transformers-2.2.2 sentencepiece-0.1.97 tokenizers-0.13.2 transformers-4.26.1 umap-learn-0.5.3\n"
          ]
        }
      ],
      "source": [
        "pip install bertopic"
      ]
    },
    {
      "cell_type": "code",
      "source": [
        "pip install clean-text"
      ],
      "metadata": {
        "colab": {
          "base_uri": "https://localhost:8080/"
        },
        "id": "Uk4v_pZW8il2",
        "outputId": "43f084e4-aa07-49b9-b397-e8be3b833695"
      },
      "id": "Uk4v_pZW8il2",
      "execution_count": 78,
      "outputs": [
        {
          "output_type": "stream",
          "name": "stdout",
          "text": [
            "Looking in indexes: https://pypi.org/simple, https://us-python.pkg.dev/colab-wheels/public/simple/\n",
            "Collecting clean-text\n",
            "  Downloading clean_text-0.6.0-py3-none-any.whl (11 kB)\n",
            "Collecting emoji<2.0.0,>=1.0.0\n",
            "  Downloading emoji-1.7.0.tar.gz (175 kB)\n",
            "\u001b[2K     \u001b[90m━━━━━━━━━━━━━━━━━━━━━━━━━━━━━━━━━━━━━━━\u001b[0m \u001b[32m175.4/175.4 KB\u001b[0m \u001b[31m5.7 MB/s\u001b[0m eta \u001b[36m0:00:00\u001b[0m\n",
            "\u001b[?25h  Preparing metadata (setup.py) ... \u001b[?25l\u001b[?25hdone\n",
            "Collecting ftfy<7.0,>=6.0\n",
            "  Downloading ftfy-6.1.1-py3-none-any.whl (53 kB)\n",
            "\u001b[2K     \u001b[90m━━━━━━━━━━━━━━━━━━━━━━━━━━━━━━━━━━━━━━━━\u001b[0m \u001b[32m53.1/53.1 KB\u001b[0m \u001b[31m7.9 MB/s\u001b[0m eta \u001b[36m0:00:00\u001b[0m\n",
            "\u001b[?25hRequirement already satisfied: wcwidth>=0.2.5 in /usr/local/lib/python3.8/dist-packages (from ftfy<7.0,>=6.0->clean-text) (0.2.6)\n",
            "Building wheels for collected packages: emoji\n",
            "  Building wheel for emoji (setup.py) ... \u001b[?25l\u001b[?25hdone\n",
            "  Created wheel for emoji: filename=emoji-1.7.0-py3-none-any.whl size=171046 sha256=7dfa4bc4fc602b7958dc99d25a75e02cbdb002f6b99bb5fbc63694a0f511614e\n",
            "  Stored in directory: /root/.cache/pip/wheels/5e/8c/80/c3646df8201ba6f5070297fe3779a4b70265d0bfd961c15302\n",
            "Successfully built emoji\n",
            "Installing collected packages: emoji, ftfy, clean-text\n",
            "Successfully installed clean-text-0.6.0 emoji-1.7.0 ftfy-6.1.1\n"
          ]
        }
      ]
    },
    {
      "cell_type": "code",
      "source": [
        "pip install clean-text"
      ],
      "metadata": {
        "id": "pypKdWFv-hlk"
      },
      "id": "pypKdWFv-hlk",
      "execution_count": null,
      "outputs": []
    },
    {
      "cell_type": "code",
      "source": [],
      "metadata": {
        "id": "jCo7JaLe5Dw3"
      },
      "id": "jCo7JaLe5Dw3",
      "execution_count": 14,
      "outputs": []
    },
    {
      "cell_type": "code",
      "source": [
        "pip install maps_search"
      ],
      "metadata": {
        "colab": {
          "base_uri": "https://localhost:8080/"
        },
        "id": "6FduP5L03PsT",
        "outputId": "91a608ce-68ce-4184-c85f-9ee4ae8886bf"
      },
      "id": "6FduP5L03PsT",
      "execution_count": 15,
      "outputs": [
        {
          "output_type": "stream",
          "name": "stdout",
          "text": [
            "Looking in indexes: https://pypi.org/simple, https://us-python.pkg.dev/colab-wheels/public/simple/\n",
            "\u001b[31mERROR: Could not find a version that satisfies the requirement maps_search (from versions: none)\u001b[0m\u001b[31m\n",
            "\u001b[0m\u001b[31mERROR: No matching distribution found for maps_search\u001b[0m\u001b[31m\n",
            "\u001b[0m"
          ]
        }
      ]
    },
    {
      "cell_type": "code",
      "source": [
        "pip install -U googlemaps"
      ],
      "metadata": {
        "colab": {
          "base_uri": "https://localhost:8080/"
        },
        "id": "2Mb4dTKq4eC1",
        "outputId": "3b19077b-d038-46b8-9bbe-73f5d14ea8f9"
      },
      "id": "2Mb4dTKq4eC1",
      "execution_count": 16,
      "outputs": [
        {
          "output_type": "stream",
          "name": "stdout",
          "text": [
            "Looking in indexes: https://pypi.org/simple, https://us-python.pkg.dev/colab-wheels/public/simple/\n",
            "Collecting googlemaps\n",
            "  Downloading googlemaps-4.10.0.tar.gz (33 kB)\n",
            "  Preparing metadata (setup.py) ... \u001b[?25l\u001b[?25hdone\n",
            "Requirement already satisfied: requests<3.0,>=2.20.0 in /usr/local/lib/python3.8/dist-packages (from googlemaps) (2.25.1)\n",
            "Requirement already satisfied: urllib3<1.27,>=1.21.1 in /usr/local/lib/python3.8/dist-packages (from requests<3.0,>=2.20.0->googlemaps) (1.26.14)\n",
            "Requirement already satisfied: certifi>=2017.4.17 in /usr/local/lib/python3.8/dist-packages (from requests<3.0,>=2.20.0->googlemaps) (2022.12.7)\n",
            "Requirement already satisfied: chardet<5,>=3.0.2 in /usr/local/lib/python3.8/dist-packages (from requests<3.0,>=2.20.0->googlemaps) (4.0.0)\n",
            "Requirement already satisfied: idna<3,>=2.5 in /usr/local/lib/python3.8/dist-packages (from requests<3.0,>=2.20.0->googlemaps) (2.10)\n",
            "Building wheels for collected packages: googlemaps\n",
            "  Building wheel for googlemaps (setup.py) ... \u001b[?25l\u001b[?25hdone\n",
            "  Created wheel for googlemaps: filename=googlemaps-4.10.0-py3-none-any.whl size=40715 sha256=4008f397b7eb778c124192fc8b88d9a5d3ddb819d8232bf27334fb251ca072b3\n",
            "  Stored in directory: /root/.cache/pip/wheels/18/8a/74/69684f55a6b3e396f2b8e129f98b576cb02d6bebe66a0c3999\n",
            "Successfully built googlemaps\n",
            "Installing collected packages: googlemaps\n",
            "Successfully installed googlemaps-4.10.0\n"
          ]
        }
      ]
    },
    {
      "cell_type": "code",
      "source": [
        "pip install gomaps"
      ],
      "metadata": {
        "colab": {
          "base_uri": "https://localhost:8080/"
        },
        "id": "RD556Zw-5aZL",
        "outputId": "57529465-810f-4b26-b05c-4b9476093a68"
      },
      "id": "RD556Zw-5aZL",
      "execution_count": 23,
      "outputs": [
        {
          "output_type": "stream",
          "name": "stdout",
          "text": [
            "Looking in indexes: https://pypi.org/simple, https://us-python.pkg.dev/colab-wheels/public/simple/\n",
            "Collecting gomaps\n",
            "  Downloading gomaps-0.3.3.tar.gz (10 kB)\n",
            "  Preparing metadata (setup.py) ... \u001b[?25l\u001b[?25hdone\n",
            "Collecting requests_html\n",
            "  Downloading requests_html-0.10.0-py3-none-any.whl (13 kB)\n",
            "Collecting pyppdf\n",
            "  Downloading pyppdf-0.1.2.tar.gz (26 kB)\n",
            "  Preparing metadata (setup.py) ... \u001b[?25l\u001b[?25hdone\n",
            "Collecting GeoLiberator\n",
            "  Downloading GeoLiberator-0.3.7.tar.gz (9.1 kB)\n",
            "  Preparing metadata (setup.py) ... \u001b[?25l\u001b[?25hdone\n",
            "Requirement already satisfied: certifi in /usr/local/lib/python3.8/dist-packages (from pyppdf->gomaps) (2022.12.7)\n",
            "Requirement already satisfied: click in /usr/local/lib/python3.8/dist-packages (from pyppdf->gomaps) (8.1.3)\n",
            "Requirement already satisfied: psutil in /usr/local/lib/python3.8/dist-packages (from pyppdf->gomaps) (5.4.8)\n",
            "Collecting litereval>=0.0.9\n",
            "  Downloading litereval-0.0.11.tar.gz (20 kB)\n",
            "  Preparing metadata (setup.py) ... \u001b[?25l\u001b[?25hdone\n",
            "Collecting pyppeteer>=0.2.2\n",
            "  Downloading pyppeteer-1.0.2-py3-none-any.whl (83 kB)\n",
            "\u001b[2K     \u001b[90m━━━━━━━━━━━━━━━━━━━━━━━━━━━━━━━━━━━━━━━━\u001b[0m \u001b[32m83.4/83.4 KB\u001b[0m \u001b[31m5.5 MB/s\u001b[0m eta \u001b[36m0:00:00\u001b[0m\n",
            "\u001b[?25hCollecting fake-useragent\n",
            "  Downloading fake_useragent-1.1.1-py3-none-any.whl (50 kB)\n",
            "\u001b[2K     \u001b[90m━━━━━━━━━━━━━━━━━━━━━━━━━━━━━━━━━━━━━━━━\u001b[0m \u001b[32m50.4/50.4 KB\u001b[0m \u001b[31m6.9 MB/s\u001b[0m eta \u001b[36m0:00:00\u001b[0m\n",
            "\u001b[?25hCollecting pyquery\n",
            "  Downloading pyquery-2.0.0-py3-none-any.whl (22 kB)\n",
            "Collecting parse\n",
            "  Downloading parse-1.19.0.tar.gz (30 kB)\n",
            "  Preparing metadata (setup.py) ... \u001b[?25l\u001b[?25hdone\n",
            "Collecting w3lib\n",
            "  Downloading w3lib-2.1.1-py3-none-any.whl (21 kB)\n",
            "Requirement already satisfied: requests in /usr/local/lib/python3.8/dist-packages (from requests_html->gomaps) (2.25.1)\n",
            "Requirement already satisfied: bs4 in /usr/local/lib/python3.8/dist-packages (from requests_html->gomaps) (0.0.1)\n",
            "Requirement already satisfied: tqdm<5.0.0,>=4.42.1 in /usr/local/lib/python3.8/dist-packages (from pyppeteer>=0.2.2->pyppdf->gomaps) (4.64.1)\n",
            "Requirement already satisfied: appdirs<2.0.0,>=1.4.3 in /usr/local/lib/python3.8/dist-packages (from pyppeteer>=0.2.2->pyppdf->gomaps) (1.4.4)\n",
            "Collecting pyee<9.0.0,>=8.1.0\n",
            "  Downloading pyee-8.2.2-py2.py3-none-any.whl (12 kB)\n",
            "Requirement already satisfied: urllib3<2.0.0,>=1.25.8 in /usr/local/lib/python3.8/dist-packages (from pyppeteer>=0.2.2->pyppdf->gomaps) (1.26.14)\n",
            "Collecting websockets<11.0,>=10.0\n",
            "  Downloading websockets-10.4-cp38-cp38-manylinux_2_5_x86_64.manylinux1_x86_64.manylinux_2_17_x86_64.manylinux2014_x86_64.whl (106 kB)\n",
            "\u001b[2K     \u001b[90m━━━━━━━━━━━━━━━━━━━━━━━━━━━━━━━━━━━━━━\u001b[0m \u001b[32m107.0/107.0 KB\u001b[0m \u001b[31m14.5 MB/s\u001b[0m eta \u001b[36m0:00:00\u001b[0m\n",
            "\u001b[?25hRequirement already satisfied: importlib-metadata>=1.4 in /usr/local/lib/python3.8/dist-packages (from pyppeteer>=0.2.2->pyppdf->gomaps) (6.0.0)\n",
            "Requirement already satisfied: beautifulsoup4 in /usr/local/lib/python3.8/dist-packages (from bs4->requests_html->gomaps) (4.6.3)\n",
            "Requirement already satisfied: importlib-resources>=5.0 in /usr/local/lib/python3.8/dist-packages (from fake-useragent->requests_html->gomaps) (5.12.0)\n",
            "Requirement already satisfied: lxml>=2.1 in /usr/local/lib/python3.8/dist-packages (from pyquery->requests_html->gomaps) (4.9.2)\n",
            "Collecting cssselect>=1.2.0\n",
            "  Downloading cssselect-1.2.0-py2.py3-none-any.whl (18 kB)\n",
            "Requirement already satisfied: idna<3,>=2.5 in /usr/local/lib/python3.8/dist-packages (from requests->requests_html->gomaps) (2.10)\n",
            "Requirement already satisfied: chardet<5,>=3.0.2 in /usr/local/lib/python3.8/dist-packages (from requests->requests_html->gomaps) (4.0.0)\n",
            "Requirement already satisfied: zipp>=0.5 in /usr/local/lib/python3.8/dist-packages (from importlib-metadata>=1.4->pyppeteer>=0.2.2->pyppdf->gomaps) (3.15.0)\n",
            "Building wheels for collected packages: gomaps, GeoLiberator, pyppdf, litereval, parse\n",
            "  Building wheel for gomaps (setup.py) ... \u001b[?25l\u001b[?25hdone\n",
            "  Created wheel for gomaps: filename=gomaps-0.3.3-py3-none-any.whl size=10551 sha256=223551383fcd73a1616d23898bec07157965f0b72221be58260f33597c762635\n",
            "  Stored in directory: /root/.cache/pip/wheels/bd/57/18/9f35ab1f2b8c3584b031ff4a17b8d0f0a939e74d3fbeacd55a\n",
            "  Building wheel for GeoLiberator (setup.py) ... \u001b[?25l\u001b[?25hdone\n",
            "  Created wheel for GeoLiberator: filename=GeoLiberator-0.3.7-py3-none-any.whl size=9611 sha256=d55f4fef3dd2e9c2385690430a91920e0e60be94980dfd3554d1a6d9928823ed\n",
            "  Stored in directory: /root/.cache/pip/wheels/ed/4f/54/d4939a8700dda5bda3e512b663f75c2b02c6dc577156f91502\n",
            "  Building wheel for pyppdf (setup.py) ... \u001b[?25l\u001b[?25hdone\n",
            "  Created wheel for pyppdf: filename=pyppdf-0.1.2-py3-none-any.whl size=11095 sha256=d574fa3891a868dd1bf96e76e56754a479c62e3f795f7bb3594c5671238d89d0\n",
            "  Stored in directory: /root/.cache/pip/wheels/01/76/3c/752c74e12cbd7aa1f5043db1d4da0a6974e74ade9a6948f097\n",
            "  Building wheel for litereval (setup.py) ... \u001b[?25l\u001b[?25hdone\n",
            "  Created wheel for litereval: filename=litereval-0.0.11-py3-none-any.whl size=6029 sha256=a9dc0e15976fad7d5041cb89a189135eca7e36ae099480edc05526fa6d7af401\n",
            "  Stored in directory: /root/.cache/pip/wheels/e5/2b/75/5f8b2fe9245ff1e4453c3d0d54a4fe19349da6f35aad50ed8d\n",
            "  Building wheel for parse (setup.py) ... \u001b[?25l\u001b[?25hdone\n",
            "  Created wheel for parse: filename=parse-1.19.0-py3-none-any.whl size=24591 sha256=c9138921492177f5aec2f5ebf7d257e4412558bbb0580a84f99a73a3f650cf47\n",
            "  Stored in directory: /root/.cache/pip/wheels/e5/33/1f/68392720485b3ecf125a69e700baaab7624616deedea2fa6e2\n",
            "Successfully built gomaps GeoLiberator pyppdf litereval parse\n",
            "Installing collected packages: pyee, parse, GeoLiberator, websockets, w3lib, litereval, cssselect, pyquery, pyppeteer, fake-useragent, requests_html, pyppdf, gomaps\n",
            "Successfully installed GeoLiberator-0.3.7 cssselect-1.2.0 fake-useragent-1.1.1 gomaps-0.3.3 litereval-0.0.11 parse-1.19.0 pyee-8.2.2 pyppdf-0.1.2 pyppeteer-1.0.2 pyquery-2.0.0 requests_html-0.10.0 w3lib-2.1.1 websockets-10.4\n"
          ]
        }
      ]
    },
    {
      "cell_type": "code",
      "source": [
        "pip install pgeocode"
      ],
      "metadata": {
        "colab": {
          "base_uri": "https://localhost:8080/"
        },
        "id": "DF_7nb0V5lJ4",
        "outputId": "58f362eb-e7eb-487e-a9b3-03075bf0a574"
      },
      "id": "DF_7nb0V5lJ4",
      "execution_count": 25,
      "outputs": [
        {
          "output_type": "stream",
          "name": "stdout",
          "text": [
            "Looking in indexes: https://pypi.org/simple, https://us-python.pkg.dev/colab-wheels/public/simple/\n",
            "Collecting pgeocode\n",
            "  Downloading pgeocode-0.4.0-py3-none-any.whl (9.7 kB)\n",
            "Requirement already satisfied: requests in /usr/local/lib/python3.8/dist-packages (from pgeocode) (2.25.1)\n",
            "Requirement already satisfied: numpy in /usr/local/lib/python3.8/dist-packages (from pgeocode) (1.22.4)\n",
            "Requirement already satisfied: pandas in /usr/local/lib/python3.8/dist-packages (from pgeocode) (1.3.5)\n",
            "Requirement already satisfied: python-dateutil>=2.7.3 in /usr/local/lib/python3.8/dist-packages (from pandas->pgeocode) (2.8.2)\n",
            "Requirement already satisfied: pytz>=2017.3 in /usr/local/lib/python3.8/dist-packages (from pandas->pgeocode) (2022.7.1)\n",
            "Requirement already satisfied: urllib3<1.27,>=1.21.1 in /usr/local/lib/python3.8/dist-packages (from requests->pgeocode) (1.26.14)\n",
            "Requirement already satisfied: certifi>=2017.4.17 in /usr/local/lib/python3.8/dist-packages (from requests->pgeocode) (2022.12.7)\n",
            "Requirement already satisfied: idna<3,>=2.5 in /usr/local/lib/python3.8/dist-packages (from requests->pgeocode) (2.10)\n",
            "Requirement already satisfied: chardet<5,>=3.0.2 in /usr/local/lib/python3.8/dist-packages (from requests->pgeocode) (4.0.0)\n",
            "Requirement already satisfied: six>=1.5 in /usr/local/lib/python3.8/dist-packages (from python-dateutil>=2.7.3->pandas->pgeocode) (1.15.0)\n",
            "Installing collected packages: pgeocode\n",
            "Successfully installed pgeocode-0.4.0\n"
          ]
        }
      ]
    },
    {
      "cell_type": "code",
      "source": [
        "pip install cleantext"
      ],
      "metadata": {
        "colab": {
          "base_uri": "https://localhost:8080/"
        },
        "id": "NkC786cX5qbG",
        "outputId": "ae542ab6-864c-43db-f6ef-4821a4ba82a3"
      },
      "id": "NkC786cX5qbG",
      "execution_count": 27,
      "outputs": [
        {
          "output_type": "stream",
          "name": "stdout",
          "text": [
            "Looking in indexes: https://pypi.org/simple, https://us-python.pkg.dev/colab-wheels/public/simple/\n",
            "Collecting cleantext\n",
            "  Downloading cleantext-1.1.4-py3-none-any.whl (4.9 kB)\n",
            "Requirement already satisfied: nltk in /usr/local/lib/python3.8/dist-packages (from cleantext) (3.7)\n",
            "Requirement already satisfied: regex>=2021.8.3 in /usr/local/lib/python3.8/dist-packages (from nltk->cleantext) (2022.6.2)\n",
            "Requirement already satisfied: click in /usr/local/lib/python3.8/dist-packages (from nltk->cleantext) (8.1.3)\n",
            "Requirement already satisfied: joblib in /usr/local/lib/python3.8/dist-packages (from nltk->cleantext) (1.2.0)\n",
            "Requirement already satisfied: tqdm in /usr/local/lib/python3.8/dist-packages (from nltk->cleantext) (4.64.1)\n",
            "Installing collected packages: cleantext\n",
            "Successfully installed cleantext-1.1.4\n"
          ]
        }
      ]
    },
    {
      "cell_type": "code",
      "execution_count": 82,
      "id": "3b381b6a",
      "metadata": {
        "id": "3b381b6a"
      },
      "outputs": [],
      "source": [
        "from bertopic import BERTopic\n",
        "import pandas as pd\n",
        "import random\n",
        "import os\n",
        "import requests\n",
        "import googlemaps\n",
        "import json\n",
        "from gomaps import maps_search\n",
        "import time\n",
        "import pandas as pd\n",
        "import pgeocode\n",
        "import requests\n",
        "import json\n",
        "import re\n",
        "import numpy as np\n",
        "from cleantext import clean\n",
        "from google.colab import drive\n",
        "import ast\n",
        "import locale\n",
        "locale.getpreferredencoding = lambda: \"UTF-8\""
      ]
    },
    {
      "cell_type": "code",
      "source": [
        "drive.mount('/content/drive')"
      ],
      "metadata": {
        "colab": {
          "base_uri": "https://localhost:8080/"
        },
        "id": "qYjAeopq4J67",
        "outputId": "fcc82e69-51dc-41bc-e969-9d10620e80e8"
      },
      "id": "qYjAeopq4J67",
      "execution_count": 29,
      "outputs": [
        {
          "output_type": "stream",
          "name": "stdout",
          "text": [
            "Mounted at /content/drive\n"
          ]
        }
      ]
    },
    {
      "cell_type": "code",
      "execution_count": 57,
      "id": "030043fb",
      "metadata": {
        "id": "030043fb"
      },
      "outputs": [],
      "source": [
        "database =  pd.read_csv(\"/content/df_with_model_input.csv\")"
      ]
    },
    {
      "cell_type": "code",
      "execution_count": 58,
      "id": "4ea043a0",
      "metadata": {
        "id": "4ea043a0"
      },
      "outputs": [],
      "source": [
        "trial_model =  BERTopic.load(\"/content/BERT_model_custom_embeddings_v1.joblib\")"
      ]
    },
    {
      "cell_type": "code",
      "source": [
        "#Lukas Function"
      ],
      "metadata": {
        "id": "r7Pv4JIf1gNL"
      },
      "id": "r7Pv4JIf1gNL",
      "execution_count": 59,
      "outputs": []
    },
    {
      "cell_type": "code",
      "source": [
        "def extract_place_details(place_id, api_key):\n",
        "    url = f'https://maps.googleapis.com/maps/api/place/details/json?place_id={place_id}&key={api_key}'\n",
        "\n",
        "    # Send a GET request to the API endpoint and retrieve the response\n",
        "    response = requests.get(url)\n",
        "\n",
        "    # Parse the JSON response and convert it to a dictionary\n",
        "    result = json.loads(response.text)\n",
        "\n",
        "    try:\n",
        "        return [result[\"result\"]]\n",
        "    \n",
        "    except:\n",
        "        print(\"Error in extract_place_details\")"
      ],
      "metadata": {
        "id": "ydVOSWmm2Qrw"
      },
      "id": "ydVOSWmm2Qrw",
      "execution_count": 60,
      "outputs": []
    },
    {
      "cell_type": "code",
      "source": [
        "def transform_to_df(place_details):\n",
        "    user_input_details = pd.DataFrame(data = place_details)\n",
        "    return user_input_details"
      ],
      "metadata": {
        "id": "5wwxMBTd2fNy"
      },
      "id": "5wwxMBTd2fNy",
      "execution_count": 61,
      "outputs": []
    },
    {
      "cell_type": "code",
      "source": [
        "def process_user_input_details2():\n",
        "    print(\"1. Please find your place_id of your favorite location using the following link: https://developers.google.com/maps/documentation/javascript/examples/places-placeid-finder\")\n",
        "    place_id = input(\"Please insert the place_id of your desired location: \")\n",
        "    api_key = open(\"/content/key.txt\").read()\n",
        "    place_details = extract_place_details(place_id, api_key)\n",
        "    user_input_details = transform_to_df(place_details)\n",
        "    \n",
        "    return user_input_details"
      ],
      "metadata": {
        "id": "UavL-IXr2Qzv"
      },
      "id": "UavL-IXr2Qzv",
      "execution_count": 62,
      "outputs": []
    },
    {
      "cell_type": "code",
      "source": [
        "def get_coordinates_from_details(user_input_details):\n",
        "    latitude = round(user_input_details[\"geometry\"][0][\"location\"][\"lat\"], 7)\n",
        "    longitude = round(user_input_details[\"geometry\"][0][\"location\"][\"lng\"], 7)\n",
        "    return latitude, longitude"
      ],
      "metadata": {
        "id": "hDUB9Zr21vPk"
      },
      "id": "hDUB9Zr21vPk",
      "execution_count": 63,
      "outputs": []
    },
    {
      "cell_type": "code",
      "source": [
        "def process_user_input_high_level(user_input_details):\n",
        "    latitude, longitude = get_coordinates_from_details(user_input_details)\n",
        "    \n",
        "    #Google Maps API parameters\n",
        "    search_string = 'restaurant'\n",
        "    distance = 0.0001\n",
        "    rankby=distance\n",
        "    \n",
        "    api_key = open(\"/content/key.txt\").read()\n",
        "    map_client = googlemaps.Client(api_key)\n",
        "    response = map_client.places_nearby(location=(latitude, longitude), keyword=search_string, radius=distance)\n",
        "    \n",
        "    result = response.get('results')\n",
        "\n",
        "    for i, business in enumerate(result):\n",
        "        latitude_hl = business[\"geometry\"][\"location\"][\"lat\"] \n",
        "        longitude_hl = business[\"geometry\"][\"location\"][\"lng\"]\n",
        "        \n",
        "        if latitude_hl == latitude and longitude_hl == longitude:\n",
        "            high_level_result = transform_to_df([result[i]])\n",
        "\n",
        "            high_level_result['url'] = 'https://www.google.com/maps/place/?q=place_id:' + high_level_result['place_id']\n",
        "            \n",
        "            return high_level_result\n",
        "        \n",
        "        else:\n",
        "            print(\"Error in process_user_input_high_level\")"
      ],
      "metadata": {
        "id": "uj-kIu101vSL"
      },
      "id": "uj-kIu101vSL",
      "execution_count": 64,
      "outputs": []
    },
    {
      "cell_type": "code",
      "source": [
        "def concat(df_details, df_high_level):\n",
        "    final = pd.concat([df_high_level.set_index(\"place_id\"), df_details.set_index(\"place_id\")], axis = 1, join=\"inner\")\n",
        "    return final"
      ],
      "metadata": {
        "id": "DoSEt6gA1vU-"
      },
      "id": "DoSEt6gA1vU-",
      "execution_count": 65,
      "outputs": []
    },
    {
      "cell_type": "code",
      "source": [
        "def add_missing_cols(final_df):\n",
        "    benchmark_df = pd.read_csv(\"/content/df_with_model_input.csv\")\n",
        "    benchmark_cols = benchmark_df.columns\n",
        "    final_cols = final_df.columns\n",
        "    \n",
        "    for benchmark_column in benchmark_cols:\n",
        "        if benchmark_column not in final_cols:\n",
        "            final_df[benchmark_column] = np.nan\n",
        "        else:\n",
        "            pass\n",
        "        \n",
        "    return final_df"
      ],
      "metadata": {
        "id": "yHxBim1A1vXM"
      },
      "id": "yHxBim1A1vXM",
      "execution_count": 66,
      "outputs": []
    },
    {
      "cell_type": "code",
      "source": [
        "def clean_data(final_df):\n",
        "    #dropping useless columns\n",
        "    \n",
        "    final_df = final_df.loc[:, ~final_df.columns.duplicated(keep='first')]\n",
        "    \n",
        "    cols_to_drop = ['Unnamed: 0', 'secondary_opening_hours', 'utc_offset', 'current_opening_hours', 'adr_address', 'address_components', 'icon', 'icon_background_color', 'icon',\n",
        "       'icon_mask_base_uri', 'scope', 'formatted_phone_number', \"opening_hours\"]\n",
        "    \n",
        "    final_df = final_df.drop(cols_to_drop, axis=1)\n",
        "    \n",
        "    final_df = final_df[['name', 'reference', 'geometry', 'formatted_address',\n",
        "       'price_level', 'rating', 'user_ratings_total', 'types','editorial_summary', 'reviews',\n",
        "       'curbside_pickup', 'delivery', 'dine_in', 'takeout', 'reservable',\n",
        "       'serves_beer', 'serves_breakfast', 'serves_brunch', 'serves_dinner', 'serves_lunch', 'serves_vegetarian_food', 'serves_wine',\n",
        "       'wheelchair_accessible_entrance', 'website', 'international_phone_number', 'photos', 'vicinity', 'url', 'business_status','permanently_closed', 'plus_code']]\n",
        "    \n",
        "    review_dct = {}\n",
        "    for i, item in enumerate(final_df[\"reviews\"][0]):\n",
        "        review_dct[f\"review{i}\"] = item[\"text\"]\n",
        "        #review_dct[f\"review{i}\"] = clean(item[\"text\"], no_emoji=True, no_line_breaks=True)\n",
        "    try:\n",
        "        review_dct.update({\"editorial_summary\" : ast.literal_eval(final_df[\"editorial_summary\"][0])[\"overview\"]})\n",
        "        \n",
        "    except:\n",
        "        review_dct.update({\"editorial_summary\" : \"\"})\n",
        "\n",
        "    try:\n",
        "        review_dct.update({\"types\" : ast.literal_eval(final_df[\"types\"][0].replace(\"'point_of_interest', \", \"\"))})\n",
        "        \n",
        "    except:\n",
        "        review_dct.update({\"types\" : \"\"})\n",
        "    \n",
        "    final_df[\"model_input\"] = str(review_dct).replace(\"{\", \"\").replace(\"}\",\"\")\n",
        "    \n",
        "    #final_df[\"model_input\"].apply(lambda x: str(x).replace(\"'review0':\" , \"\").replace(\"'review1':\" , \"\").replace(\"'review2':\" , \"\").replace(\"'review3':\" , \"\").replace(\"'review4':\" , \"\").replace(\"'types':\" , \"\").replace(\"'editorial_summary':\" , \"\"))  \n",
        "    \n",
        "    return final_df"
      ],
      "metadata": {
        "id": "XoK4QhX-1vZc"
      },
      "id": "XoK4QhX-1vZc",
      "execution_count": 90,
      "outputs": []
    },
    {
      "cell_type": "code",
      "source": [],
      "metadata": {
        "id": "aUwl1hoH8P-u"
      },
      "id": "aUwl1hoH8P-u",
      "execution_count": 77,
      "outputs": []
    },
    {
      "cell_type": "code",
      "source": [
        "def user_input():\n",
        "    user_input_details = process_user_input_details2()\n",
        "    user_input_high_level = process_user_input_high_level(user_input_details)\n",
        "    final = concat(user_input_details, user_input_high_level)\n",
        "    final = add_missing_cols(final)\n",
        "    final_cleaned = clean_data(final)\n",
        "    \n",
        "    return final_cleaned"
      ],
      "metadata": {
        "id": "K-s_Scws1gjR"
      },
      "id": "K-s_Scws1gjR",
      "execution_count": 68,
      "outputs": []
    },
    {
      "cell_type": "code",
      "source": [
        "#Leo Function"
      ],
      "metadata": {
        "id": "uBxzXocd1gnO"
      },
      "id": "uBxzXocd1gnO",
      "execution_count": 69,
      "outputs": []
    },
    {
      "cell_type": "code",
      "execution_count": 70,
      "id": "1bc4b036",
      "metadata": {
        "id": "1bc4b036"
      },
      "outputs": [],
      "source": [
        "def find_topic_of_database(trial_model, database):\n",
        "    database[\"topic\"] = trial_model.topics_\n",
        "    return database"
      ]
    },
    {
      "cell_type": "code",
      "execution_count": 71,
      "id": "dd91c725",
      "metadata": {
        "id": "dd91c725"
      },
      "outputs": [],
      "source": [
        "def find_topic_of_user_input(model, user_input):\n",
        "    if type(user_input) == str:\n",
        "        #print(\"str\")\n",
        "        input_topic, input_prob = model.transform(user_input)\n",
        "        user_input_type = \"Manual Input\"\n",
        "    elif type(user_input) != \"None\":\n",
        "        #print(\"df\")\n",
        "        input_topic, input_prob = model.transform(str(user_input[\"model_input\"]))\n",
        "        user_input_type = \"Google Maps Input\"\n",
        "        #name = user_input[\"name\"].to_string(index=False)\n",
        "    else:\n",
        "        print(\"error while assigning the topic for user input\")\n",
        "    \n",
        "    return user_input_type, input_topic, input_prob"
      ]
    },
    {
      "cell_type": "code",
      "execution_count": 72,
      "id": "5b71e541",
      "metadata": {
        "id": "5b71e541"
      },
      "outputs": [],
      "source": [
        "def build_clusters(model, database, user_input):\n",
        "    #cluster building of database\n",
        "    database_clustered = find_topic_of_database(model, database)\n",
        "    user_input_type, user_input_topic, user_input_prob = find_topic_of_user_input(model, user_input)\n",
        "    return database_clustered, user_input_type, user_input_topic, user_input_prob"
      ]
    },
    {
      "cell_type": "code",
      "execution_count": 94,
      "id": "3e2e2c07",
      "metadata": {
        "id": "3e2e2c07"
      },
      "outputs": [],
      "source": [
        "def output_recommendation(database, user_input_type, user_input_topic, user_input_prob):\n",
        "  # remove user input from possible list of output if it's a restaurant\n",
        "\n",
        "  if user_input_type == \"Manual Input\":\n",
        "    recommendation = database.iloc[random.choice(range(len(database[database[\"topic\"] == user_input_topic[0]])))][\"name\"]\n",
        "    return recommendation\n",
        "  elif user_input_type == \"Google Maps Input\":\n",
        "    #database = database[~(database[\"name\"].str.lower() == user_input_name.lower())] -> to be implemented\n",
        "    recommendation = database.iloc[random.choice(range(len(database[database[\"topic\"] == user_input_topic[0]])))][\"name\"]\n",
        "    return recommendation\n",
        "  else:\n",
        "    return \"error while selecting the recommendation\""
      ]
    },
    {
      "cell_type": "code",
      "source": [
        "#Combining Lukas and Leos Function"
      ],
      "metadata": {
        "id": "Ryy5Gu1C1lk3"
      },
      "id": "Ryy5Gu1C1lk3",
      "execution_count": 74,
      "outputs": []
    },
    {
      "cell_type": "code",
      "execution_count": 97,
      "id": "829e40f4",
      "metadata": {
        "id": "829e40f4"
      },
      "outputs": [],
      "source": [
        "def main(database, model):\n",
        "    user_input_ = user_input()\n",
        "    database_clustered, user_input_type, user_input_topic, user_input_prob = build_clusters(model, database, user_input_)\n",
        "    recommendation = output_recommendation(database_clustered, user_input_type, user_input_topic, user_input_prob)\n",
        "    return recommendation"
      ]
    },
    {
      "cell_type": "code",
      "execution_count": 98,
      "id": "614984ca",
      "metadata": {
        "colab": {
          "base_uri": "https://localhost:8080/",
          "height": 102,
          "referenced_widgets": [
            "67519dfc1b234c229e5b7f4c5e33fe53",
            "ccab2d5cfc18406c938e72bd36adf3df",
            "e3e2976ff9464760b14a0dde3216fbc6",
            "7cb7ff797cc641ecb1abc997f029b82c",
            "df75ea3fa71f4d8e97206ce1fb48e2b9",
            "90f9ea4d71a14b4baf2b9a13a619c21d",
            "a8beb78837194f08926ad8d9ea1fe6cf",
            "3afb09a32ae24ae989262870b3aa0a28",
            "a56d0e459e314b88ac07fbff0621bcfa",
            "1b778134ef284e7e97636f4bd844ed2f",
            "d0b42f068c2f40b2b4af1eb942d81019"
          ]
        },
        "id": "614984ca",
        "outputId": "1fb0d243-3154-4fba-87f5-a8e775e5914a"
      },
      "outputs": [
        {
          "name": "stdout",
          "output_type": "stream",
          "text": [
            "1. Please find your place_id of your favorite location using the following link: https://developers.google.com/maps/documentation/javascript/examples/places-placeid-finder\n",
            "Please insert the place_id of your desired location: ChIJywdI5etRqEcRUVD-ycuGL6M\n"
          ]
        },
        {
          "output_type": "display_data",
          "data": {
            "text/plain": [
              "Batches:   0%|          | 0/1 [00:00<?, ?it/s]"
            ],
            "application/vnd.jupyter.widget-view+json": {
              "version_major": 2,
              "version_minor": 0,
              "model_id": "67519dfc1b234c229e5b7f4c5e33fe53"
            }
          },
          "metadata": {}
        },
        {
          "output_type": "execute_result",
          "data": {
            "text/plain": [
              "'Falafel'"
            ],
            "application/vnd.google.colaboratory.intrinsic+json": {
              "type": "string"
            }
          },
          "metadata": {},
          "execution_count": 98
        }
      ],
      "source": [
        "main(database, trial_model)"
      ]
    }
  ],
  "metadata": {
    "kernelspec": {
      "display_name": "Python 3 (ipykernel)",
      "language": "python",
      "name": "python3"
    },
    "language_info": {
      "codemirror_mode": {
        "name": "ipython",
        "version": 3
      },
      "file_extension": ".py",
      "mimetype": "text/x-python",
      "name": "python",
      "nbconvert_exporter": "python",
      "pygments_lexer": "ipython3",
      "version": "3.9.15"
    },
    "colab": {
      "provenance": []
    },
    "accelerator": "GPU",
    "gpuClass": "standard",
    "widgets": {
      "application/vnd.jupyter.widget-state+json": {
        "67519dfc1b234c229e5b7f4c5e33fe53": {
          "model_module": "@jupyter-widgets/controls",
          "model_name": "HBoxModel",
          "model_module_version": "1.5.0",
          "state": {
            "_dom_classes": [],
            "_model_module": "@jupyter-widgets/controls",
            "_model_module_version": "1.5.0",
            "_model_name": "HBoxModel",
            "_view_count": null,
            "_view_module": "@jupyter-widgets/controls",
            "_view_module_version": "1.5.0",
            "_view_name": "HBoxView",
            "box_style": "",
            "children": [
              "IPY_MODEL_ccab2d5cfc18406c938e72bd36adf3df",
              "IPY_MODEL_e3e2976ff9464760b14a0dde3216fbc6",
              "IPY_MODEL_7cb7ff797cc641ecb1abc997f029b82c"
            ],
            "layout": "IPY_MODEL_df75ea3fa71f4d8e97206ce1fb48e2b9"
          }
        },
        "ccab2d5cfc18406c938e72bd36adf3df": {
          "model_module": "@jupyter-widgets/controls",
          "model_name": "HTMLModel",
          "model_module_version": "1.5.0",
          "state": {
            "_dom_classes": [],
            "_model_module": "@jupyter-widgets/controls",
            "_model_module_version": "1.5.0",
            "_model_name": "HTMLModel",
            "_view_count": null,
            "_view_module": "@jupyter-widgets/controls",
            "_view_module_version": "1.5.0",
            "_view_name": "HTMLView",
            "description": "",
            "description_tooltip": null,
            "layout": "IPY_MODEL_90f9ea4d71a14b4baf2b9a13a619c21d",
            "placeholder": "​",
            "style": "IPY_MODEL_a8beb78837194f08926ad8d9ea1fe6cf",
            "value": "Batches: 100%"
          }
        },
        "e3e2976ff9464760b14a0dde3216fbc6": {
          "model_module": "@jupyter-widgets/controls",
          "model_name": "FloatProgressModel",
          "model_module_version": "1.5.0",
          "state": {
            "_dom_classes": [],
            "_model_module": "@jupyter-widgets/controls",
            "_model_module_version": "1.5.0",
            "_model_name": "FloatProgressModel",
            "_view_count": null,
            "_view_module": "@jupyter-widgets/controls",
            "_view_module_version": "1.5.0",
            "_view_name": "ProgressView",
            "bar_style": "success",
            "description": "",
            "description_tooltip": null,
            "layout": "IPY_MODEL_3afb09a32ae24ae989262870b3aa0a28",
            "max": 1,
            "min": 0,
            "orientation": "horizontal",
            "style": "IPY_MODEL_a56d0e459e314b88ac07fbff0621bcfa",
            "value": 1
          }
        },
        "7cb7ff797cc641ecb1abc997f029b82c": {
          "model_module": "@jupyter-widgets/controls",
          "model_name": "HTMLModel",
          "model_module_version": "1.5.0",
          "state": {
            "_dom_classes": [],
            "_model_module": "@jupyter-widgets/controls",
            "_model_module_version": "1.5.0",
            "_model_name": "HTMLModel",
            "_view_count": null,
            "_view_module": "@jupyter-widgets/controls",
            "_view_module_version": "1.5.0",
            "_view_name": "HTMLView",
            "description": "",
            "description_tooltip": null,
            "layout": "IPY_MODEL_1b778134ef284e7e97636f4bd844ed2f",
            "placeholder": "​",
            "style": "IPY_MODEL_d0b42f068c2f40b2b4af1eb942d81019",
            "value": " 1/1 [00:00&lt;00:00, 28.68it/s]"
          }
        },
        "df75ea3fa71f4d8e97206ce1fb48e2b9": {
          "model_module": "@jupyter-widgets/base",
          "model_name": "LayoutModel",
          "model_module_version": "1.2.0",
          "state": {
            "_model_module": "@jupyter-widgets/base",
            "_model_module_version": "1.2.0",
            "_model_name": "LayoutModel",
            "_view_count": null,
            "_view_module": "@jupyter-widgets/base",
            "_view_module_version": "1.2.0",
            "_view_name": "LayoutView",
            "align_content": null,
            "align_items": null,
            "align_self": null,
            "border": null,
            "bottom": null,
            "display": null,
            "flex": null,
            "flex_flow": null,
            "grid_area": null,
            "grid_auto_columns": null,
            "grid_auto_flow": null,
            "grid_auto_rows": null,
            "grid_column": null,
            "grid_gap": null,
            "grid_row": null,
            "grid_template_areas": null,
            "grid_template_columns": null,
            "grid_template_rows": null,
            "height": null,
            "justify_content": null,
            "justify_items": null,
            "left": null,
            "margin": null,
            "max_height": null,
            "max_width": null,
            "min_height": null,
            "min_width": null,
            "object_fit": null,
            "object_position": null,
            "order": null,
            "overflow": null,
            "overflow_x": null,
            "overflow_y": null,
            "padding": null,
            "right": null,
            "top": null,
            "visibility": null,
            "width": null
          }
        },
        "90f9ea4d71a14b4baf2b9a13a619c21d": {
          "model_module": "@jupyter-widgets/base",
          "model_name": "LayoutModel",
          "model_module_version": "1.2.0",
          "state": {
            "_model_module": "@jupyter-widgets/base",
            "_model_module_version": "1.2.0",
            "_model_name": "LayoutModel",
            "_view_count": null,
            "_view_module": "@jupyter-widgets/base",
            "_view_module_version": "1.2.0",
            "_view_name": "LayoutView",
            "align_content": null,
            "align_items": null,
            "align_self": null,
            "border": null,
            "bottom": null,
            "display": null,
            "flex": null,
            "flex_flow": null,
            "grid_area": null,
            "grid_auto_columns": null,
            "grid_auto_flow": null,
            "grid_auto_rows": null,
            "grid_column": null,
            "grid_gap": null,
            "grid_row": null,
            "grid_template_areas": null,
            "grid_template_columns": null,
            "grid_template_rows": null,
            "height": null,
            "justify_content": null,
            "justify_items": null,
            "left": null,
            "margin": null,
            "max_height": null,
            "max_width": null,
            "min_height": null,
            "min_width": null,
            "object_fit": null,
            "object_position": null,
            "order": null,
            "overflow": null,
            "overflow_x": null,
            "overflow_y": null,
            "padding": null,
            "right": null,
            "top": null,
            "visibility": null,
            "width": null
          }
        },
        "a8beb78837194f08926ad8d9ea1fe6cf": {
          "model_module": "@jupyter-widgets/controls",
          "model_name": "DescriptionStyleModel",
          "model_module_version": "1.5.0",
          "state": {
            "_model_module": "@jupyter-widgets/controls",
            "_model_module_version": "1.5.0",
            "_model_name": "DescriptionStyleModel",
            "_view_count": null,
            "_view_module": "@jupyter-widgets/base",
            "_view_module_version": "1.2.0",
            "_view_name": "StyleView",
            "description_width": ""
          }
        },
        "3afb09a32ae24ae989262870b3aa0a28": {
          "model_module": "@jupyter-widgets/base",
          "model_name": "LayoutModel",
          "model_module_version": "1.2.0",
          "state": {
            "_model_module": "@jupyter-widgets/base",
            "_model_module_version": "1.2.0",
            "_model_name": "LayoutModel",
            "_view_count": null,
            "_view_module": "@jupyter-widgets/base",
            "_view_module_version": "1.2.0",
            "_view_name": "LayoutView",
            "align_content": null,
            "align_items": null,
            "align_self": null,
            "border": null,
            "bottom": null,
            "display": null,
            "flex": null,
            "flex_flow": null,
            "grid_area": null,
            "grid_auto_columns": null,
            "grid_auto_flow": null,
            "grid_auto_rows": null,
            "grid_column": null,
            "grid_gap": null,
            "grid_row": null,
            "grid_template_areas": null,
            "grid_template_columns": null,
            "grid_template_rows": null,
            "height": null,
            "justify_content": null,
            "justify_items": null,
            "left": null,
            "margin": null,
            "max_height": null,
            "max_width": null,
            "min_height": null,
            "min_width": null,
            "object_fit": null,
            "object_position": null,
            "order": null,
            "overflow": null,
            "overflow_x": null,
            "overflow_y": null,
            "padding": null,
            "right": null,
            "top": null,
            "visibility": null,
            "width": null
          }
        },
        "a56d0e459e314b88ac07fbff0621bcfa": {
          "model_module": "@jupyter-widgets/controls",
          "model_name": "ProgressStyleModel",
          "model_module_version": "1.5.0",
          "state": {
            "_model_module": "@jupyter-widgets/controls",
            "_model_module_version": "1.5.0",
            "_model_name": "ProgressStyleModel",
            "_view_count": null,
            "_view_module": "@jupyter-widgets/base",
            "_view_module_version": "1.2.0",
            "_view_name": "StyleView",
            "bar_color": null,
            "description_width": ""
          }
        },
        "1b778134ef284e7e97636f4bd844ed2f": {
          "model_module": "@jupyter-widgets/base",
          "model_name": "LayoutModel",
          "model_module_version": "1.2.0",
          "state": {
            "_model_module": "@jupyter-widgets/base",
            "_model_module_version": "1.2.0",
            "_model_name": "LayoutModel",
            "_view_count": null,
            "_view_module": "@jupyter-widgets/base",
            "_view_module_version": "1.2.0",
            "_view_name": "LayoutView",
            "align_content": null,
            "align_items": null,
            "align_self": null,
            "border": null,
            "bottom": null,
            "display": null,
            "flex": null,
            "flex_flow": null,
            "grid_area": null,
            "grid_auto_columns": null,
            "grid_auto_flow": null,
            "grid_auto_rows": null,
            "grid_column": null,
            "grid_gap": null,
            "grid_row": null,
            "grid_template_areas": null,
            "grid_template_columns": null,
            "grid_template_rows": null,
            "height": null,
            "justify_content": null,
            "justify_items": null,
            "left": null,
            "margin": null,
            "max_height": null,
            "max_width": null,
            "min_height": null,
            "min_width": null,
            "object_fit": null,
            "object_position": null,
            "order": null,
            "overflow": null,
            "overflow_x": null,
            "overflow_y": null,
            "padding": null,
            "right": null,
            "top": null,
            "visibility": null,
            "width": null
          }
        },
        "d0b42f068c2f40b2b4af1eb942d81019": {
          "model_module": "@jupyter-widgets/controls",
          "model_name": "DescriptionStyleModel",
          "model_module_version": "1.5.0",
          "state": {
            "_model_module": "@jupyter-widgets/controls",
            "_model_module_version": "1.5.0",
            "_model_name": "DescriptionStyleModel",
            "_view_count": null,
            "_view_module": "@jupyter-widgets/base",
            "_view_module_version": "1.2.0",
            "_view_name": "StyleView",
            "description_width": ""
          }
        }
      }
    }
  },
  "nbformat": 4,
  "nbformat_minor": 5
}