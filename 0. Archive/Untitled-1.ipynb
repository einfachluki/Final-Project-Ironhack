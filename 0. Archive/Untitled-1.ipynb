{
 "cells": [
  {
   "cell_type": "code",
   "execution_count": 2,
   "metadata": {},
   "outputs": [],
   "source": [
    "from linkedin_scraper import Person, actions\n",
    "from selenium import webdriver"
   ]
  },
  {
   "cell_type": "code",
   "execution_count": null,
   "metadata": {},
   "outputs": [],
   "source": [
    "#pip install --user linkedin_scraper"
   ]
  },
  {
   "cell_type": "code",
   "execution_count": null,
   "metadata": {},
   "outputs": [],
   "source": [
    "#pip install selenium==3.141.0"
   ]
  },
  {
   "cell_type": "code",
   "execution_count": null,
   "metadata": {},
   "outputs": [],
   "source": [
    "#pip uninstall selenium"
   ]
  },
  {
   "cell_type": "code",
   "execution_count": null,
   "metadata": {},
   "outputs": [],
   "source": [
    "#pip install webdriver-manager"
   ]
  },
  {
   "cell_type": "code",
   "execution_count": 11,
   "metadata": {},
   "outputs": [],
   "source": [
    "driver = webdriver.Chrome('/Users/lukasbauerschmidt/Downloads/chromedriver_mac64 (1)/chromedriver')\n",
    "email = \"peter-mosel@web.de\"\n",
    "password = \"IronHack!!!\"\n",
    "actions.login(driver, email, password) # if email and password isnt given, it'll prompt in terminal\n",
    "person = Person(\"https://www.linkedin.com/in/leo-krohne-03411725b/\", driver=driver)"
   ]
  },
  {
   "cell_type": "code",
   "execution_count": 10,
   "metadata": {
    "scrolled": true
   },
   "outputs": [
    {
     "data": {
      "text/plain": [
       "Leo Krohne (Er/ihn)\n",
       "\n",
       "About\n",
       "I am a determined and adaptable engineer with a passion for sustainability and a background in biotechnology. Currently, I am shifting my professional focus towards Data Analytics and Data Science to apply my skills in Python, Tableau, and engineering mathematics to real problems. My experience in teaching and organising teams make me a valuable asset for any Data team that emphasises communication and collaboration.\n",
       "I am a determined and adaptable engineer with a passion for sustainability and a background in biotechnology. Currently, I am shifting my professional focus towards Data Analytics and Data Science to apply my skills in Python, Tableau, and engineering mathematics to real problems. My experience in teaching and organising teams make me a valuable asset for any Data team that emphasises communication and collaboration.\n",
       "\n",
       "Experience\n",
       "[Experience(institution_name='Technische Universität Berlin · Vollzeit', linkedin_url='https://www.linkedin.com/company/1188458/', website=None, industry=None, type=None, headquarters=None, company_size=None, founded=None, from_date='Sept. 2021–Sept.', to_date='', description='Kenntnisse: Bioreaktor · Datenvisualisierung · Mikroskopie · Bioverfahrenstechnik · Statistische Datenanalyse\\nBioreaktor · Datenvisualisierung · Mikroskopie · Bioverfahrenstechnik · Statistische Datenanalyse', position_title='Graduate Research Assistant', duration='1 Jahr 1 Monat', location='Berlin, Deutschland · Vor Ort'), Experience(institution_name='Joint BioEnergy Institute · Vollzeit', linkedin_url='https://www.linkedin.com/company/5526712/', website=None, industry=None, type=None, headquarters=None, company_size=None, founded=None, from_date='Jan. 2020–März', to_date='', description='Kenntnisse: Proteincharakterisierung · Proteinreinigung · Proteinexpression · SDS-PAGE · RT-PCR · Statistische Versuchsplanung · Mikrobiologie\\nProteincharakterisierung · Proteinreinigung · Proteinexpression · SDS-PAGE · RT-PCR · Statistische Versuchsplanung · Mikrobiologie', position_title='Graduate Research Assistant', duration='3 Monate', location='Emeryville, Kalifornien, Vereinigte Staaten von Amerika · Vor Ort'), Experience(institution_name='INNER ELMT · Vollzeit', linkedin_url='https://www.linkedin.com/company/30082720/', website=None, industry=None, type=None, headquarters=None, company_size=None, founded=None, from_date='Juli 2018–Feb.', to_date='', description='Kenntnisse: Kanban · Agiles Projektmanagement · Teammanagement · Projektplanung · Produktentwicklung\\nKanban · Agiles Projektmanagement · Teammanagement · Projektplanung · Produktentwicklung', position_title='CTO', duration='8 Monate', location='Berlin, Deutschland · Vor Ort'), Experience(institution_name='Technische Universität Berlin · Teilzeit', linkedin_url='https://www.linkedin.com/company/1188458/', website=None, industry=None, type=None, headquarters=None, company_size=None, founded=None, from_date='Aug. 2015–Juni', to_date='', description='Kenntnisse: Zellkulturen · Zellbiologie · Mikroskopie\\nZellkulturen · Zellbiologie · Mikroskopie', position_title='Studentische Hilfskraft', duration='11 Monate', location='Berlin, Deutschland · Vor Ort')]\n",
       "\n",
       "Education\n",
       "[Education(institution_name='Ironhack', linkedin_url='https://www.linkedin.com/company/3297892/', website=None, industry=None, type=None, headquarters=None, company_size=None, founded=None, from_date='Jan. 2023–März', to_date='', description='Data Analytics Bootcamp including Python, Tableau and machine learning\\nData Analytics Bootcamp including Python, Tableau and machine learning\\nKenntnisse: Data Science · Jupyter · Pandas (Software)\\nData Science · Jupyter · Pandas (Software)', degree='Data Analytics'), Education(institution_name='Technische Universität Berlin', linkedin_url='https://www.linkedin.com/company/1188458/', website=None, industry=None, type=None, headquarters=None, company_size=None, founded=None, from_date='Apr. 2018–Juli', to_date='', description='Note: 1.1\\nNote: 1.1\\nAktivitäten und Verbände: Deutschland Stipendium, PROMOS Mobility Stipend\\nAktivitäten und Verbände: Deutschland Stipendium, PROMOS Mobility Stipend\\nKenntnisse: Bioverfahrenstechnik · Pandas (Software) · Microsoft Excel · Statistische Datenanalyse · Statistische Versuchsplanung · Python (Programmiersprache)\\nBioverfahrenstechnik · Pandas (Software) · Microsoft Excel · Statistische Datenanalyse · Statistische Versuchsplanung · Python (Programmiersprache)', degree='Master of Science - MS, Biotechnologie (Bioprocess Engineering)'), Education(institution_name='Technische Universität Berlin', linkedin_url='https://www.linkedin.com/company/1188458/', website=None, industry=None, type=None, headquarters=None, company_size=None, founded=None, from_date='Okt. 2012–Nov.', to_date='', description='', degree='Bachelor of Science - BS, Biotechnologie'), Education(institution_name='Ev. Gymnasium zum grauen Kloster', linkedin_url=None, website=None, industry=None, type=None, headquarters=None, company_size=None, founded=None, from_date='Aug. 2001–Juni', to_date='', description='Aktivitäten und Verbände: Mitglied des Schulausschusses (höchstes Schulgremium), Schülervertreter in der SV\\nAktivitäten und Verbände: Mitglied des Schulausschusses (höchstes Schulgremium), Schülervertreter in der SV', degree='Abitur, Biologie, Englisch')]\n",
       "\n",
       "Interest\n",
       "[]\n",
       "\n",
       "Accomplishments\n",
       "[]\n",
       "\n",
       "Contacts\n",
       "[]"
      ]
     },
     "execution_count": 10,
     "metadata": {},
     "output_type": "execute_result"
    }
   ],
   "source": [
    "person"
   ]
  },
  {
   "cell_type": "code",
   "execution_count": null,
   "metadata": {},
   "outputs": [],
   "source": []
  }
 ],
 "metadata": {
  "kernelspec": {
   "display_name": "Python 3 (ipykernel)",
   "language": "python",
   "name": "python3"
  },
  "language_info": {
   "codemirror_mode": {
    "name": "ipython",
    "version": 3
   },
   "file_extension": ".py",
   "mimetype": "text/x-python",
   "name": "python",
   "nbconvert_exporter": "python",
   "pygments_lexer": "ipython3",
   "version": "3.9.15"
  },
  "vscode": {
   "interpreter": {
    "hash": "8a74db3f91c27a9b84291ac903c101b0b77cb402a445186b8d8b05699ba75a7d"
   }
  }
 },
 "nbformat": 4,
 "nbformat_minor": 2
}
